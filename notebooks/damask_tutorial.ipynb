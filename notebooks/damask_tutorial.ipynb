{
 "cells": [
  {
   "cell_type": "markdown",
   "id": "d0c61026-3a4c-4e5e-9d61-fdfafca74244",
   "metadata": {},
   "source": [
    "# DAMASK tutorial\n",
    "- creating necessary inputs for damask\n",
    "- runing the damask jobs\n",
    "\n",
    "here more option is given to the user to select from damask python package itself."
   ]
  },
  {
   "cell_type": "markdown",
   "id": "ef3b0f8f-f536-445e-b5a5-80127c731dc5",
   "metadata": {},
   "source": [
    "## Importing libraries and creatign Project"
   ]
  },
  {
   "cell_type": "code",
   "execution_count": 1,
   "id": "eb2b9de9-0c2a-48ca-a63e-046abe4f56cf",
   "metadata": {},
   "outputs": [],
   "source": [
    "from pyiron_continuum import Project\n",
    "from damask import Rotation"
   ]
  },
  {
   "cell_type": "code",
   "execution_count": 2,
   "id": "1ce13de4-6314-4150-9939-13668098164c",
   "metadata": {},
   "outputs": [],
   "source": [
    "pr = Project(\"damask_proj\")"
   ]
  },
  {
   "cell_type": "code",
   "execution_count": 3,
   "id": "360189ad-8345-4efa-a5c4-cc381b110a50",
   "metadata": {},
   "outputs": [
    {
     "data": {
      "application/vnd.jupyter.widget-view+json": {
       "model_id": "c4747b9e514e426abaa9db4a6d4bd6a8",
       "version_major": 2,
       "version_minor": 0
      },
      "text/plain": [
       "0it [00:00, ?it/s]"
      ]
     },
     "metadata": {},
     "output_type": "display_data"
    }
   ],
   "source": [
    "pr.remove_jobs(silently=True) # remove the old or existing folder"
   ]
  },
  {
   "cell_type": "markdown",
   "id": "f9938eb9-7ab3-4440-84dc-e0c2419984e7",
   "metadata": {},
   "source": [
    "## Creating the Damask job"
   ]
  },
  {
   "cell_type": "code",
   "execution_count": 4,
   "id": "34539f6b-0e53-4f49-a7b2-b42e6cc74f09",
   "metadata": {},
   "outputs": [],
   "source": [
    "job = pr.create.job.DAMASK(\"damask_job\")"
   ]
  },
  {
   "cell_type": "markdown",
   "id": "1dfa818a-b6e3-4abd-8a00-39a3ffd2424c",
   "metadata": {},
   "source": [
    "## Creating the necessary inputs"
   ]
  },
  {
   "cell_type": "code",
   "execution_count": 5,
   "id": "6512f434-10fe-49d8-82da-555001502ea4",
   "metadata": {},
   "outputs": [],
   "source": [
    "grains=5;grids=8 # defines the number of grains and grids"
   ]
  },
  {
   "cell_type": "markdown",
   "id": "af0167a1-2c9d-49c0-8d68-ffa248d00de9",
   "metadata": {},
   "source": [
    "### Homogenization"
   ]
  },
  {
   "cell_type": "code",
   "execution_count": 6,
   "id": "bcf4da2a-6253-4e73-a6d3-5e434b7de1fe",
   "metadata": {},
   "outputs": [],
   "source": [
    "homogenization = pr.create.DAMASK.homogenization(method='SX', \n",
    "                                                 parameters={'N_constituents': 1,\n",
    "                                                             \"mechanical\": {\"type\": \"pass\"}})"
   ]
  },
  {
   "cell_type": "code",
   "execution_count": 7,
   "id": "2a96e114-7cea-49dd-959c-50e63498e47c",
   "metadata": {},
   "outputs": [],
   "source": [
    "homogenization = pr.continuum.damask.Homogenization(method='SX', \n",
    "                                                     parameters={'N_constituents': 1,\n",
    "                                                                 \"mechanical\": {\"type\": \"pass\"}})"
   ]
  },
  {
   "cell_type": "markdown",
   "id": "b1af7a42-951f-4d0f-bb56-5d6ea18b92e5",
   "metadata": {},
   "source": [
    "### Elasticity"
   ]
  },
  {
   "cell_type": "code",
   "execution_count": 8,
   "id": "8e8a1801-467a-4260-b14e-433265f08fa9",
   "metadata": {},
   "outputs": [],
   "source": [
    "elasticity = pr.continuum.damask.Elasticity(type= 'Hooke', C_11= 106.75e9,\n",
    "                                   C_12= 60.41e9, C_44=28.34e9)"
   ]
  },
  {
   "cell_type": "markdown",
   "id": "71b5659e-ade4-4bfb-a80c-79d77f3366bf",
   "metadata": {},
   "source": [
    "### Plasticity"
   ]
  },
  {
   "cell_type": "code",
   "execution_count": 9,
   "id": "24b6b8a1-7e0a-4836-b230-e29fbfbc370f",
   "metadata": {},
   "outputs": [],
   "source": [
    "plasticity = pr.continuum.damask.Plasticity(type='phenopowerlaw',\n",
    "                                            N_sl=[12],a_sl=[2.25],\n",
    "                                            atol_xi=1.0,dot_gamma_0_sl=[0.001],\n",
    "                                            h_0_sl_sl=[75.0e6],\n",
    "                                            h_sl_sl=[1, 1, 1.4, 1.4, 1.4, 1.4, 1.4],\n",
    "                                            n_sl=[20],\n",
    "                                            output=['xi_sl'],\n",
    "                                            xi_0_sl=[31.0e6],\n",
    "                                            xi_inf_sl=[63.0e6]\n",
    "                                           )  "
   ]
  },
  {
   "cell_type": "markdown",
   "id": "c4599715-e2e7-43aa-ab86-c0a26fe862a7",
   "metadata": {},
   "source": [
    "### Phase"
   ]
  },
  {
   "cell_type": "code",
   "execution_count": 10,
   "id": "7d018837-f07e-4f01-8436-683e12257489",
   "metadata": {},
   "outputs": [],
   "source": [
    "phase = pr.continuum.damask.Phase(composition='Aluminum', lattice= 'cF',\n",
    "                         output_list=['F', 'P', 'F_e', 'F_p', 'L_p', 'O'],\n",
    "                         elasticity=elasticity, plasticity=plasticity)"
   ]
  },
  {
   "cell_type": "markdown",
   "id": "ce4d182d-85ee-40f1-946e-eaa1005a7e03",
   "metadata": {},
   "source": [
    "### Rotation"
   ]
  },
  {
   "cell_type": "code",
   "execution_count": 11,
   "id": "d93eda97-b7ce-4572-8ce3-b8d34672e274",
   "metadata": {},
   "outputs": [],
   "source": [
    "rotation = pr.continuum.damask.Rotation(Rotation.from_random, grains)"
   ]
  },
  {
   "cell_type": "markdown",
   "id": "e39e9e82-c289-4322-ba9e-f03c3580e03e",
   "metadata": {},
   "source": [
    "### Material"
   ]
  },
  {
   "cell_type": "code",
   "execution_count": 12,
   "id": "dfb6237e-1dbf-47ba-9f50-e580456e9760",
   "metadata": {},
   "outputs": [],
   "source": [
    "material = pr.continuum.damask.Material([rotation],['Aluminum'], phase, homogenization)"
   ]
  },
  {
   "cell_type": "code",
   "execution_count": 13,
   "id": "d633c7d0-c47f-4d2d-aaa4-22c9d980d136",
   "metadata": {},
   "outputs": [],
   "source": [
    "job.material = material"
   ]
  },
  {
   "cell_type": "markdown",
   "id": "583ae5d3-d057-41b7-ad15-249564316cec",
   "metadata": {},
   "source": [
    "### Grid"
   ]
  },
  {
   "cell_type": "code",
   "execution_count": 14,
   "id": "f2cde993-9ccc-4c04-9fa0-0e7ad1832483",
   "metadata": {},
   "outputs": [],
   "source": [
    "grid = pr.continuum.damask.Grid.via_voronoi_tessellation(box_size=1.0e-5, spatial_discretization=grids, num_grains=grains)"
   ]
  },
  {
   "cell_type": "code",
   "execution_count": 15,
   "id": "4642dc1d-2b9b-4ccc-bf2b-e66054ec11eb",
   "metadata": {},
   "outputs": [],
   "source": [
    "job.grid = grid"
   ]
  },
  {
   "cell_type": "markdown",
   "id": "0f2fda22-7d5c-42bb-9aba-f1aebe58279d",
   "metadata": {},
   "source": [
    "### Loading"
   ]
  },
  {
   "cell_type": "code",
   "execution_count": 16,
   "id": "48fa531a-5785-41b1-91f2-49aafdc296da",
   "metadata": {},
   "outputs": [],
   "source": [
    "load_step =[{'mech_bc_dict':{'dot_F':[1e-3,0,0, 0,'x',0,  0,0,'x'],\n",
    "                            'P':['x','x','x', 'x',0,'x',  'x','x',0]},\n",
    "            'discretization':{'t': 10.,'N': 40},\n",
    "            'additional': {'f_out': 4}\n",
    "           },{'mech_bc_dict':{'dot_F':[1e-3,0,0, 0,'x',0,  0,0,'x'],\n",
    "                              'P':['x','x','x', 'x',0,'x',  'x','x',0]},\n",
    "            'discretization':{'t': 60.,'N': 60},\n",
    "            'additional': {'f_out': 4}\n",
    "           }]"
   ]
  },
  {
   "cell_type": "code",
   "execution_count": 17,
   "id": "47aba5c8-9371-459d-979b-8ae3c012b981",
   "metadata": {},
   "outputs": [],
   "source": [
    "solver = job.list_solvers()[0]"
   ]
  },
  {
   "cell_type": "code",
   "execution_count": 18,
   "id": "664ddbd9-a2c8-423e-a1ef-7fb3e1cb5d40",
   "metadata": {},
   "outputs": [],
   "source": [
    "job.loading = pr.continuum.damask.Loading(solver=solver, load_steps=load_step)"
   ]
  },
  {
   "cell_type": "markdown",
   "id": "2bfb7e7f-659e-493e-8696-42e2073912fa",
   "metadata": {},
   "source": [
    "## Runing the job"
   ]
  },
  {
   "cell_type": "code",
   "execution_count": 19,
   "id": "03f5d0df-92b0-4fed-b9fa-996bff478bc1",
   "metadata": {},
   "outputs": [
    {
     "name": "stdout",
     "output_type": "stream",
     "text": [
      "The job damask_job was saved and received the ID: 6\n"
     ]
    },
    {
     "name": "stderr",
     "output_type": "stream",
     "text": [
      " ██████████████████████████████████████████████████ 100% ETA 0:00:00\n",
      " ██████████████████████████████████████████████████ 100% ETA 0:00:00\n",
      " ██████████████████████████████████████████████████ 100% ETA 0:00:00\n",
      " ██████████████████████████████████████████████████ 100% ETA 0:00:00\n",
      " ██████████████████████████████████████████████████ 100% ETA 0:00:00\n",
      " ██████████████████████████████████████████████████ 100% ETA 0:00:00\n",
      " ██████████████████████████████████████████████████ 100% ETA 0:00:00\n",
      " ██████████████████████████████████████████████████ 100% ETA 0:00:00\n",
      " ██████████████████████████████████████████████████ 100% ETA 0:00:00\n",
      " ██████████████████████████████████████████████████ 100% ETA 0:00:00\n",
      " ██████████████████████████████████████████████████ 100% ETA 0:00:00\n",
      " ██████████████████████████████████████████████████ 100% ETA 0:00:00\n"
     ]
    }
   ],
   "source": [
    "job.run()"
   ]
  },
  {
   "cell_type": "code",
   "execution_count": 20,
   "id": "b40ba0b4-12bb-4fa6-9e58-934afbc2781a",
   "metadata": {},
   "outputs": [
    {
     "data": {
      "text/html": [
       "<div>\n",
       "<style scoped>\n",
       "    .dataframe tbody tr th:only-of-type {\n",
       "        vertical-align: middle;\n",
       "    }\n",
       "\n",
       "    .dataframe tbody tr th {\n",
       "        vertical-align: top;\n",
       "    }\n",
       "\n",
       "    .dataframe thead th {\n",
       "        text-align: right;\n",
       "    }\n",
       "</style>\n",
       "<table border=\"1\" class=\"dataframe\">\n",
       "  <thead>\n",
       "    <tr style=\"text-align: right;\">\n",
       "      <th></th>\n",
       "      <th>id</th>\n",
       "      <th>status</th>\n",
       "      <th>chemicalformula</th>\n",
       "      <th>job</th>\n",
       "      <th>subjob</th>\n",
       "      <th>projectpath</th>\n",
       "      <th>project</th>\n",
       "      <th>timestart</th>\n",
       "      <th>timestop</th>\n",
       "      <th>totalcputime</th>\n",
       "      <th>computer</th>\n",
       "      <th>hamilton</th>\n",
       "      <th>hamversion</th>\n",
       "      <th>parentid</th>\n",
       "      <th>masterid</th>\n",
       "    </tr>\n",
       "  </thead>\n",
       "  <tbody>\n",
       "    <tr>\n",
       "      <th>0</th>\n",
       "      <td>6</td>\n",
       "      <td>finished</td>\n",
       "      <td>None</td>\n",
       "      <td>damask_job</td>\n",
       "      <td>/damask_job</td>\n",
       "      <td>None</td>\n",
       "      <td>/home/tjogi/DigiStahl/pyiron_continuum/notebooks/damask_proj/</td>\n",
       "      <td>2024-05-22 16:53:41.914317</td>\n",
       "      <td>2024-05-22 16:54:05.461414</td>\n",
       "      <td>23.0</td>\n",
       "      <td>pyiron@mapc178#1</td>\n",
       "      <td>DAMASK</td>\n",
       "      <td>0.4</td>\n",
       "      <td>None</td>\n",
       "      <td>None</td>\n",
       "    </tr>\n",
       "  </tbody>\n",
       "</table>\n",
       "</div>"
      ],
      "text/plain": [
       "   id    status chemicalformula         job       subjob projectpath  \\\n",
       "0   6  finished            None  damask_job  /damask_job        None   \n",
       "\n",
       "                                                         project  \\\n",
       "0  /home/tjogi/DigiStahl/pyiron_continuum/notebooks/damask_proj/   \n",
       "\n",
       "                   timestart                   timestop  totalcputime  \\\n",
       "0 2024-05-22 16:53:41.914317 2024-05-22 16:54:05.461414          23.0   \n",
       "\n",
       "           computer hamilton hamversion parentid masterid  \n",
       "0  pyiron@mapc178#1   DAMASK        0.4     None     None  "
      ]
     },
     "execution_count": 20,
     "metadata": {},
     "output_type": "execute_result"
    }
   ],
   "source": [
    "pr.job_table()"
   ]
  },
  {
   "cell_type": "markdown",
   "id": "841da73c-cc70-4131-b27c-ed6918c0c8d9",
   "metadata": {},
   "source": [
    "## Post-processing"
   ]
  },
  {
   "cell_type": "code",
   "execution_count": 21,
   "id": "58488412-85a1-468c-a150-75dae0aeb5cf",
   "metadata": {},
   "outputs": [
    {
     "data": {
      "text/plain": [
       "(<Figure size 640x480 with 1 Axes>,\n",
       " <Axes: xlabel='$\\\\varepsilon_z$$_z$', ylabel='$\\\\sigma_z$$_z$(Pa)'>)"
      ]
     },
     "execution_count": 21,
     "metadata": {},
     "output_type": "execute_result"
    },
    {
     "data": {
      "image/png": "[encoded data removed]",
      "text/plain": [
       "<Figure size 640x480 with 1 Axes>"
      ]
     },
     "metadata": {},
     "output_type": "display_data"
    }
   ],
   "source": [
    "job.plot_stress_strain(component='zz')"
   ]
  },
  {
   "cell_type": "code",
   "execution_count": 22,
   "id": "d8a821fb-34f6-4f04-9f40-12b04477b12b",
   "metadata": {},
   "outputs": [
    {
     "data": {
      "text/plain": [
       "(<Figure size 640x480 with 1 Axes>,\n",
       " <Axes: xlabel='$\\\\varepsilon_{vM}$', ylabel='$\\\\sigma_{vM}$ (Pa)'>)"
      ]
     },
     "execution_count": 22,
     "metadata": {},
     "output_type": "execute_result"
    },
    {
     "data": {
      "image/png": "[encoded data removed]",
      "text/plain": [
       "<Figure size 640x480 with 1 Axes>"
      ]
     },
     "metadata": {},
     "output_type": "display_data"
    }
   ],
   "source": [
    "job.plot_stress_strain(von_mises=True)"
   ]
  },
  {
   "cell_type": "code",
   "execution_count": 23,
   "id": "89e9f3aa-d673-4c39-af25-9366edabbb45",
   "metadata": {},
   "outputs": [
    {
     "data": {
      "text/plain": [
       "\u001b[2mCreated by DAMASK_grid v3.0.0-alpha8\n",
       "        on 2024-05-22 16:53:42+0200\n",
       " executing \"DAMASK_grid -m material.yaml -l loading.yaml -g damask.vti\"\u001b[0m\n",
       "\n",
       "increment_80 (50.0 s)\n",
       "  phase\n",
       "    Aluminum\n",
       "      mechanical\n",
       "        F / 1: deformation gradient\n",
       "        F_e / 1: elastic deformation gradient\n",
       "        F_p / 1: plastic deformation gradient\n",
       "        L_p / 1/s: plastic velocity gradient\n",
       "        O / 1: crystal orientation as quaternion q_0 (q_1 q_2 q_3)\n",
       "        P / Pa: first Piola-Kirchhoff stress\n",
       "        epsilon_V^0.0(F) / 1: Seth-Hill strain tensor of order 0.0 based on left stretch tensor of F (deformation gradient)\n",
       "        epsilon_V^0.0(F)_vM / 1: Mises equivalent strain of epsilon_V^0.0(F) (Seth-Hill strain tensor of order 0.0 based on left stretch tensor of F (deformation gradient))\n",
       "        sigma / Pa: Cauchy stress calculated from P (first Piola-Kirchhoff stress) and F (deformation gradient)\n",
       "        sigma_vM / Pa: Mises equivalent stress of sigma (Cauchy stress calculated from P (first Piola-Kirchhoff stress) and F (deformation gradient))\n",
       "        xi_sl / Pa: resistance against plastic slip\n",
       "  homogenization\n",
       "    SX\n",
       "      mechanical"
      ]
     },
     "execution_count": 23,
     "metadata": {},
     "output_type": "execute_result"
    }
   ],
   "source": [
    "job.output.damask.view(increments=80)"
   ]
  },
  {
   "cell_type": "code",
   "execution_count": 24,
   "id": "3d310ed3-c1c6-4f5a-a236-a923b91ca0e4",
   "metadata": {},
   "outputs": [
    {
     "data": {
      "text/plain": [
       "array([[[ 1.07967837e-05, -3.67492310e-07, -3.35021511e-06],\n",
       "        [-3.67492310e-07,  1.37553260e-05, -2.16683946e-06],\n",
       "        [-3.35021511e-06, -2.16683946e-06,  1.28030982e-05]],\n",
       "\n",
       "       [[ 6.50787730e+07,  1.84235086e+06,  1.67633432e+06],\n",
       "        [ 1.84235086e+06, -4.87513102e+02, -1.65669506e+06],\n",
       "        [ 1.67633432e+06, -1.65669506e+06, -1.83167090e+03]],\n",
       "\n",
       "       [[ 7.63949332e+07,  6.79563063e+06,  3.03350696e+06],\n",
       "        [ 6.79563063e+06,  5.87592784e+03, -7.77644816e+06],\n",
       "        [ 3.03350696e+06, -7.77644816e+06,  5.56131404e+03]],\n",
       "\n",
       "       [[ 7.98305892e+07,  8.41847811e+06,  5.16729003e+06],\n",
       "        [ 8.41847811e+06, -3.60182206e+03, -1.06205374e+07],\n",
       "        [ 5.16729003e+06, -1.06205374e+07, -3.63403368e+03]],\n",
       "\n",
       "       [[ 8.10538472e+07,  8.93316407e+06,  6.53243000e+06],\n",
       "        [ 8.93316407e+06,  8.90457293e+02, -1.14492220e+07],\n",
       "        [ 6.53243000e+06, -1.14492220e+07, -6.84298512e+03]],\n",
       "\n",
       "       [[ 8.15474129e+07,  9.11499334e+06,  7.31799288e+06],\n",
       "        [ 9.11499334e+06, -3.49142305e+03, -1.16798989e+07],\n",
       "        [ 7.31799288e+06, -1.16798989e+07, -1.48687982e+03]],\n",
       "\n",
       "       [[ 8.18282812e+07,  9.18995538e+06,  7.80963034e+06],\n",
       "        [ 9.18995538e+06, -3.51923128e+03, -1.17471170e+07],\n",
       "        [ 7.80963034e+06, -1.17471170e+07, -6.01511545e+03]],\n",
       "\n",
       "       [[ 8.20341021e+07,  9.22262262e+06,  8.13290874e+06],\n",
       "        [ 9.22262262e+06, -4.30550216e+03, -1.17670877e+07],\n",
       "        [ 8.13290874e+06, -1.17670877e+07, -7.30267884e+03]],\n",
       "\n",
       "       [[ 8.22189995e+07,  9.23460453e+06,  8.35696897e+06],\n",
       "        [ 9.23460453e+06,  9.79826340e+03, -1.17718092e+07],\n",
       "        [ 8.35696897e+06, -1.17718092e+07,  8.09344370e+03]],\n",
       "\n",
       "       [[ 8.23656595e+07,  9.23831349e+06,  8.51800328e+06],\n",
       "        [ 9.23831349e+06,  2.43534309e+03, -1.17722721e+07],\n",
       "        [ 8.51800328e+06, -1.17722721e+07,  2.41992593e+03]],\n",
       "\n",
       "       [[ 8.25102099e+07,  9.23877439e+06,  8.63793636e+06],\n",
       "        [ 9.23877439e+06,  3.73116503e+03, -1.17728589e+07],\n",
       "        [ 8.63793636e+06, -1.17728589e+07,  1.44667166e+03]],\n",
       "\n",
       "       [[ 8.30333503e+07,  9.24719034e+06,  8.90905249e+06],\n",
       "        [ 9.24719034e+06,  6.88282098e+03, -1.17999012e+07],\n",
       "        [ 8.90905249e+06, -1.17999012e+07,  9.45525606e+02]],\n",
       "\n",
       "       [[ 8.35179276e+07,  9.26766960e+06,  9.06760946e+06],\n",
       "        [ 9.26766960e+06,  5.97865962e+03, -1.18431602e+07],\n",
       "        [ 9.06760946e+06, -1.18431602e+07,  8.98611580e+02]],\n",
       "\n",
       "       [[ 8.39697812e+07,  9.29212069e+06,  9.18622368e+06],\n",
       "        [ 9.29212069e+06, -1.27686974e+04, -1.18932506e+07],\n",
       "        [ 9.18622368e+06, -1.18932506e+07, -1.15154790e+04]],\n",
       "\n",
       "       [[ 8.44183864e+07,  9.31480783e+06,  9.28948709e+06],\n",
       "        [ 9.31480783e+06, -1.35667472e+04, -1.19441599e+07],\n",
       "        [ 9.28948709e+06, -1.19441599e+07, -1.25313506e+04]],\n",
       "\n",
       "       [[ 8.48549002e+07,  9.33449862e+06,  9.38533543e+06],\n",
       "        [ 9.33449862e+06, -1.27203866e+04, -1.19933195e+07],\n",
       "        [ 9.38533543e+06, -1.19933195e+07, -1.17155269e+04]],\n",
       "\n",
       "       [[ 8.52787102e+07,  9.35129192e+06,  9.47686282e+06],\n",
       "        [ 9.35129192e+06, -1.24904857e+04, -1.20388652e+07],\n",
       "        [ 9.47686282e+06, -1.20388652e+07, -1.15425322e+04]],\n",
       "\n",
       "       [[ 8.56912042e+07,  9.36626470e+06,  9.56530599e+06],\n",
       "        [ 9.36626470e+06, -1.21324846e+04, -1.20795466e+07],\n",
       "        [ 9.56530599e+06, -1.20795466e+07, -1.11783828e+04]],\n",
       "\n",
       "       [[ 8.60928457e+07,  9.38046771e+06,  9.65063880e+06],\n",
       "        [ 9.38046771e+06, -1.17273415e+04, -1.21146320e+07],\n",
       "        [ 9.65063880e+06, -1.21146320e+07, -1.07280574e+04]],\n",
       "\n",
       "       [[ 8.64838757e+07,  9.39431864e+06,  9.73229030e+06],\n",
       "        [ 9.39431864e+06, -1.15057778e+04, -1.21438176e+07],\n",
       "        [ 9.73229030e+06, -1.21438176e+07, -1.04628871e+04]],\n",
       "\n",
       "       [[ 8.68647965e+07,  9.40774173e+06,  9.81004525e+06],\n",
       "        [ 9.40774173e+06, -1.14617189e+04, -1.21670521e+07],\n",
       "        [ 9.81004525e+06, -1.21670521e+07, -1.04028863e+04]],\n",
       "\n",
       "       [[ 8.72361573e+07,  9.42076192e+06,  9.88427422e+06],\n",
       "        [ 9.42076192e+06, -1.15168412e+04, -1.21843446e+07],\n",
       "        [ 9.88427422e+06, -1.21843446e+07, -1.04655603e+04]],\n",
       "\n",
       "       [[ 8.75984778e+07,  9.43353722e+06,  9.95574904e+06],\n",
       "        [ 9.43353722e+06, -1.15646307e+04, -1.21956264e+07],\n",
       "        [ 9.95574904e+06, -1.21956264e+07, -1.05381710e+04]],\n",
       "\n",
       "       [[ 8.79521769e+07,  9.44601339e+06,  1.00254266e+07],\n",
       "        [ 9.44601339e+06, -1.15721015e+04, -1.22005773e+07],\n",
       "        [ 1.00254266e+07, -1.22005773e+07, -1.05869358e+04]],\n",
       "\n",
       "       [[ 8.82976216e+07,  9.45786865e+06,  1.00941971e+07],\n",
       "        [ 9.45786865e+06, -1.15928060e+04, -1.21987832e+07],\n",
       "        [ 1.00941971e+07, -1.21987832e+07, -1.06543303e+04]],\n",
       "\n",
       "       [[ 8.86353092e+07,  9.46872842e+06,  1.01627118e+07],\n",
       "        [ 9.46872842e+06, -1.16259116e+04, -1.21902929e+07],\n",
       "        [ 1.01627118e+07, -1.21902929e+07, -1.07149978e+04]]])"
      ]
     },
     "execution_count": 24,
     "metadata": {},
     "output_type": "execute_result"
    }
   ],
   "source": [
    "job.output.stress"
   ]
  }
 ],
 "metadata": {
  "kernelspec": {
   "display_name": "Python [conda env:base] *",
   "language": "python",
   "name": "conda-base-py"
  },
  "language_info": {
   "codemirror_mode": {
    "name": "ipython",
    "version": 3
   },
   "file_extension": ".py",
   "mimetype": "text/x-python",
   "name": "python",
   "nbconvert_exporter": "python",
   "pygments_lexer": "ipython3",
   "version": "3.10.0"
  }
 },
 "nbformat": 4,
 "nbformat_minor": 5
}
