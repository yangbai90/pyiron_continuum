{
 "cells": [
  {
   "cell_type": "markdown",
   "id": "7cb583ea-40a6-461c-a0fb-0e1ad294b7c8",
   "metadata": {},
   "source": [
    "# Define the pyrion project"
   ]
  },
  {
   "cell_type": "code",
   "execution_count": 1,
   "id": "4a62a46e-d978-46de-a4ca-c1ea6e1397e1",
   "metadata": {},
   "outputs": [],
   "source": [
    "from pyiron_continuum import Project\n",
    "from damask import Rotation # this will be used in material configuration"
   ]
  },
  {
   "cell_type": "markdown",
   "id": "4122bbac-2211-4ed6-b939-124a3465e4c6",
   "metadata": {},
   "source": [
    "## create a 'project' to manage all the configurations for a Rolling test"
   ]
  },
  {
   "cell_type": "code",
   "execution_count": 2,
   "id": "4c668c0d-1248-4b8c-9e8b-9db134dbadad",
   "metadata": {},
   "outputs": [],
   "source": [
    "pr = Project('RollingTest')\n",
    "#pr.remove_jobs(silently=True) # automatically delete the existing project folder"
   ]
  },
  {
   "cell_type": "markdown",
   "id": "8588fb22-6917-4a87-810d-99e02af7e327",
   "metadata": {},
   "source": [
    "## Creating the Damask job"
   ]
  },
  {
   "cell_type": "code",
   "execution_count": 3,
   "id": "86063362-35f9-4d68-866d-90dcf83d795b",
   "metadata": {},
   "outputs": [],
   "source": [
    "job = pr.create.job.ROLLING('damask_job')"
   ]
  },
  {
   "cell_type": "markdown",
   "id": "5b41505b-ac22-4136-8fd9-c2970d8f7a2c",
   "metadata": {},
   "source": [
    "## For a damask job, one needs:\n",
    "- geometry information(i.e., the mesh)\n",
    "- material configuration(material.yaml)\n",
    "- boundary conditions(i.e., loading.yaml)"
   ]
  },
  {
   "cell_type": "markdown",
   "id": "8a055c37-c81c-4be4-aec0-b2e2e8b84c67",
   "metadata": {},
   "source": [
    "## For material configuration\n",
    "- Query the material parameters for **Elasticity** and **Plasticity** from Data Space Management System(DSMS)"
   ]
  },
  {
   "cell_type": "code",
   "execution_count": 9,
   "id": "646e17b7-536f-4abc-a4de-c88cb2566b21",
   "metadata": {},
   "outputs": [],
   "source": [
    "dataset_id=\"6d66a588-079a-4436-8ac6-dff62c67791b\"\n",
    "\n",
    "query=f\"\"\"\n",
    "prefix emmo: <http://emmo.info/emmo#>\n",
    "prefix datamodel: <http://emmo.info/datamodel#>\n",
    "prefix metro: <http://emmo.info/emmo/middle/metrology#>\n",
    "prefix math: <http://emmo.info/emmo/middle/math#>\n",
    "prefix perceptual: <http://emmo.info/emmo/middle/perceptual#>\n",
    "prefix dcat: <http://www.w3.org/ns/dcat#>\n",
    "prefix steel: <https://w3id.org/steel/ProcessOntology/>\n",
    "select distinct\n",
    "    ?param_type\n",
    "    ?label\n",
    "    (str(?value) as ?val)\n",
    "    (str(?unit) as ?unit_label)\n",
    "where {{\n",
    "   <https://stahldigital.materials-data.space/{dataset_id}/dataset> datamodel:composition ?param .\n",
    "    ?param rdf:type ?param_type ;\n",
    "           rdfs:label ?label ;\n",
    "           metro:EMMO_8ef3cd6d_ae58_4a8d_9fc0_ad8f49015cd0 ?numerical .\n",
    "    ?numerical rdf:type math:EMMO_4ce76d7f_03f8_45b6_9003_90052a79bfaa ;\n",
    "                     math:EMMO_faf79f53_749d_40b2_807c_d34244c192f4 ?value ;\n",
    "                     metro:EMMO_67fc0a36_8dcb_4ffa_9a43_31074efa3296 ?symbol .\n",
    "    ?symbol perceptual:EMMO_23b579e1_8088_45b5_9975_064014026c42 ?unit .\n",
    "}}\n",
    "\"\"\""
   ]
  },
  {
   "cell_type": "code",
   "execution_count": 10,
   "id": "9259b5c7-e879-44c5-b029-0bf21497fb53",
   "metadata": {
    "scrolled": true
   },
   "outputs": [
    {
     "ename": "KeyError",
     "evalue": "'sparql'",
     "output_type": "error",
     "traceback": [
      "\u001b[0;31m---------------------------------------------------------------------------\u001b[0m",
      "\u001b[0;31mKeyError\u001b[0m                                  Traceback (most recent call last)",
      "Cell \u001b[0;32mIn[10], line 12\u001b[0m\n\u001b[1;32m      9\u001b[0m response \u001b[38;5;241m=\u001b[39m requests\u001b[38;5;241m.\u001b[39mpost(\u001b[38;5;124mf\u001b[39m\u001b[38;5;124m\"\u001b[39m\u001b[38;5;124mhttps://\u001b[39m\u001b[38;5;132;01m{\u001b[39;00mhost\u001b[38;5;132;01m}\u001b[39;00m\u001b[38;5;124m/api/knowledge/sparql\u001b[39m\u001b[38;5;124m\"\u001b[39m, json\u001b[38;5;241m=\u001b[39m{\u001b[38;5;124m\"\u001b[39m\u001b[38;5;124mquery\u001b[39m\u001b[38;5;124m\"\u001b[39m: query})\n\u001b[1;32m     11\u001b[0m \u001b[38;5;66;03m# parse into pandas df\u001b[39;00m\n\u001b[0;32m---> 12\u001b[0m df \u001b[38;5;241m=\u001b[39m pd\u001b[38;5;241m.\u001b[39mread_json(\u001b[43mresponse\u001b[49m\u001b[38;5;241;43m.\u001b[39;49m\u001b[43mjson\u001b[49m\u001b[43m(\u001b[49m\u001b[43m)\u001b[49m\u001b[43m[\u001b[49m\u001b[38;5;124;43m'\u001b[39;49m\u001b[38;5;124;43msparql\u001b[39;49m\u001b[38;5;124;43m'\u001b[39;49m\u001b[43m]\u001b[49m, orient\u001b[38;5;241m=\u001b[39m\u001b[38;5;124m'\u001b[39m\u001b[38;5;124mindex\u001b[39m\u001b[38;5;124m'\u001b[39m)\n\u001b[1;32m     13\u001b[0m df \u001b[38;5;241m=\u001b[39m df\u001b[38;5;241m.\u001b[39mastype(\u001b[38;5;28mstr\u001b[39m)\n\u001b[1;32m     14\u001b[0m df \u001b[38;5;241m=\u001b[39m df\u001b[38;5;241m.\u001b[39mapplymap(\u001b[38;5;28;01mlambda\u001b[39;00m x: x\u001b[38;5;241m.\u001b[39mreplace(\u001b[38;5;124m'\u001b[39m\u001b[38;5;124m\"\u001b[39m\u001b[38;5;124m'\u001b[39m, \u001b[38;5;124m'\u001b[39m\u001b[38;5;124m'\u001b[39m))\n",
      "\u001b[0;31mKeyError\u001b[0m: 'sparql'"
     ]
    }
   ],
   "source": [
    "import requests\n",
    "import pandas as pd\n",
    "import numpy as np\n",
    "\n",
    "# set host variable\n",
    "host = \"stahldigital.materials-data.space\"\n",
    "\n",
    "# perform query\n",
    "response = requests.post(f\"https://{host}/api/knowledge/sparql\", json={\"query\": query})\n",
    "\n",
    "# parse into pandas df\n",
    "df = pd.read_json(response.json()['sparql'], orient='index')\n",
    "df = df.astype(str)\n",
    "df = df.applymap(lambda x: x.replace('\"', ''))\n",
    "df.sort_values(\"label\")"
   ]
  },
  {
   "cell_type": "code",
   "execution_count": 11,
   "id": "28e5e339-5c5d-4d30-be69-c40cf42a01d0",
   "metadata": {},
   "outputs": [
    {
     "ename": "NameError",
     "evalue": "name 'df' is not defined",
     "output_type": "error",
     "traceback": [
      "\u001b[0;31m---------------------------------------------------------------------------\u001b[0m",
      "\u001b[0;31mNameError\u001b[0m                                 Traceback (most recent call last)",
      "Cell \u001b[0;32mIn[11], line 1\u001b[0m\n\u001b[0;32m----> 1\u001b[0m E\u001b[38;5;241m=\u001b[39m\u001b[38;5;28mfloat\u001b[39m(np\u001b[38;5;241m.\u001b[39masarray(\u001b[43mdf\u001b[49m\u001b[38;5;241m.\u001b[39mloc[df[\u001b[38;5;124m'\u001b[39m\u001b[38;5;124mlabel\u001b[39m\u001b[38;5;124m'\u001b[39m] \u001b[38;5;241m==\u001b[39m \u001b[38;5;124m'\u001b[39m\u001b[38;5;124mYoungs modulus@en\u001b[39m\u001b[38;5;124m'\u001b[39m,\u001b[38;5;124m'\u001b[39m\u001b[38;5;124mval\u001b[39m\u001b[38;5;124m'\u001b[39m])[\u001b[38;5;241m1\u001b[39m])\u001b[38;5;241m*\u001b[39m\u001b[38;5;241m175\u001b[39m\u001b[38;5;241m*\u001b[39m\u001b[38;5;241m1.0e9\u001b[39m \u001b[38;5;66;03m# GPa\u001b[39;00m\n\u001b[1;32m      2\u001b[0m nu\u001b[38;5;241m=\u001b[39m\u001b[38;5;28mfloat\u001b[39m(np\u001b[38;5;241m.\u001b[39masarray(df\u001b[38;5;241m.\u001b[39mloc[df[\u001b[38;5;124m'\u001b[39m\u001b[38;5;124mlabel\u001b[39m\u001b[38;5;124m'\u001b[39m] \u001b[38;5;241m==\u001b[39m \u001b[38;5;124m'\u001b[39m\u001b[38;5;124mPoisson ratio@en\u001b[39m\u001b[38;5;124m'\u001b[39m,\u001b[38;5;124m'\u001b[39m\u001b[38;5;124mval\u001b[39m\u001b[38;5;124m'\u001b[39m])[\u001b[38;5;241m1\u001b[39m])\u001b[38;5;241m*\u001b[39m\u001b[38;5;241m0.3\u001b[39m \u001b[38;5;66;03m# Poisson ratio\u001b[39;00m\n\u001b[1;32m      4\u001b[0m K\u001b[38;5;241m=\u001b[39mE\u001b[38;5;241m/\u001b[39m(\u001b[38;5;241m3\u001b[39m\u001b[38;5;241m*\u001b[39m(\u001b[38;5;241m1\u001b[39m\u001b[38;5;241m-\u001b[39m\u001b[38;5;241m2\u001b[39m\u001b[38;5;241m*\u001b[39mnu))\n",
      "\u001b[0;31mNameError\u001b[0m: name 'df' is not defined"
     ]
    }
   ],
   "source": [
    "E=float(np.asarray(df.loc[df['label'] == 'Youngs modulus@en','val'])[1])*175*1.0e9 # GPa\n",
    "nu=float(np.asarray(df.loc[df['label'] == 'Poisson ratio@en','val'])[1])*0.3 # Poisson ratio\n",
    "\n",
    "K=E/(3*(1-2*nu))\n",
    "mu=E/(2*(1+nu))\n",
    "\n",
    "C11=K+4*mu/3.0\n",
    "C12=K-2*mu/3.0\n",
    "C44=mu\n",
    "\n",
    "Hardening=float(np.asarray(df.loc[df['label'] == 'hardening moduli@en','val'])[1])*1.0e6 # unit is MPa\n",
    "Y0=float(np.asarray(df.loc[df['label'] == 'initial flow stress@en','val'])[1])*1.0e6 # unit is MPa\n",
    "Yinf=float(np.asarray(df.loc[df['label'] == 'saturation flow stress@en','val'])[1])*1.0e6 # unit is MPa\n",
    "a=float(np.asarray(df.loc[df['label'] == 'stress exponent@en','val'])[1]) # \n",
    "n=float(np.asarray(df.loc[df['label'] == 'flow stress exponent@en','val'])[1]) #"
   ]
  },
  {
   "cell_type": "markdown",
   "id": "15ab179c",
   "metadata": {},
   "source": [
    "### Put the values in Damask job"
   ]
  },
  {
   "cell_type": "code",
   "execution_count": null,
   "id": "4af8d1b5-c76a-432c-99f3-97c1cc56d9ae",
   "metadata": {},
   "outputs": [],
   "source": [
    "elasticity = pr.continuum.damask.Elasticity(type= 'Hooke', C_11= C11,C_12= C12, C_44=C44)\n",
    "plasticity = pr.continuum.damask.Plasticity(type='phenopowerlaw',\n",
    "                                            N_sl=[12], a_sl=a,\n",
    "                                            atol_xi=1.0, dot_gamma_0_sl=0.001,\n",
    "                                            h_0_sl_sl=Hardening, h_sl_sl=[1, 1, 1.4, 1.4, 1.4, 1.4, 1.4],\n",
    "                                            n_sl=n, output=['xi_sl'],\n",
    "                                            xi_0_sl=[Y0], xi_inf_sl=[Yinf])"
   ]
  },
  {
   "cell_type": "markdown",
   "id": "40dbadbb-3967-4633-94b6-74873b0c2aba",
   "metadata": {},
   "source": [
    "## For material configuration, you need\n",
    "* phase\n",
    "* roation\n",
    "* homogenization"
   ]
  },
  {
   "cell_type": "code",
   "execution_count": null,
   "id": "665dc11f-6bcb-4206-9efc-09b9d7c73d12",
   "metadata": {},
   "outputs": [],
   "source": [
    "grains = 4\n",
    "grids = 4\n",
    "\n",
    "phase = pr.continuum.damask.Phase(composition='Steel', lattice= 'cF',\n",
    "                         output_list=['F', 'P', 'F_e', 'F_p', 'L_p', 'O'],\n",
    "                         elasticity=elasticity,plasticity=plasticity)\n",
    "rotation = pr.continuum.damask.Rotation(Rotation.from_random, grains)\n",
    "\n",
    "homogenization = pr.continuum.damask.Homogenization(method='SX', \n",
    "                                                     parameters={'N_constituents': 1,\n",
    "                                                                 \"mechanical\": {\"type\": \"pass\"}})\n",
    "\n",
    "# now you can define your material.yaml configuration\n",
    "material = pr.continuum.damask.Material([rotation],['Steel'], phase, homogenization)\n",
    "\n",
    "# now you can save your material to your job\n",
    "job.material = material"
   ]
  },
  {
   "cell_type": "markdown",
   "id": "2dc51d80-7906-4787-afb1-cca0598ecc25",
   "metadata": {},
   "source": [
    "## For geometry information"
   ]
  },
  {
   "cell_type": "code",
   "execution_count": null,
   "id": "459f5a60-d7c8-4627-8c8f-ebb9f25644f6",
   "metadata": {},
   "outputs": [],
   "source": [
    "grid = pr.continuum.damask.Grid.via_voronoi_tessellation(box_size=10.0e-6, grid_dim=grids, num_grains=grains)\n",
    "\n",
    "# save the geometry information to your job\n",
    "job.grid = grid "
   ]
  },
  {
   "cell_type": "markdown",
   "id": "6465ba01-fc40-46e7-91a9-101cc99e8790",
   "metadata": {},
   "source": [
    "# Define the 1st rolling test"
   ]
  },
  {
   "cell_type": "code",
   "execution_count": null,
   "id": "7b286a20-0a96-4f11-829f-e5b79ff5cfbf",
   "metadata": {},
   "outputs": [],
   "source": [
    "reduction_height = 0.08\n",
    "reduction_speed = 4.5e-2\n",
    "reduction_outputs = 150\n",
    "regrid_flag=False\n",
    "damask_exe = '' # using default DAMASK_grid solver from PATH\n",
    "\n",
    "# execute the rolling test\n",
    "job.executeRolling(reduction_height,reduction_speed,reduction_outputs,regrid_flag,damask_exe)"
   ]
  },
  {
   "cell_type": "code",
   "execution_count": null,
   "id": "1f427950-0cf2-4620-ad79-18b5480d7129",
   "metadata": {},
   "outputs": [],
   "source": [
    "# show the result\n",
    "job.postProcess() # do the postprocess\n",
    "job.plotStressStrainCurve(-0.005,0.5,0.0,7.5e8) # xmin,xmax, ymin,ymax"
   ]
  },
  {
   "cell_type": "markdown",
   "id": "d3a7031e-fa74-430d-ab99-293cb7a6d927",
   "metadata": {},
   "source": [
    "# Define the 2nd rolling test"
   ]
  },
  {
   "cell_type": "code",
   "execution_count": null,
   "id": "f7b46d62-5edd-4791-9aab-bfdb1d7b9859",
   "metadata": {},
   "outputs": [],
   "source": [
    "reduction_height = 0.08\n",
    "reduction_speed = 4.5e-2\n",
    "reduction_outputs = 300\n",
    "regrid_flag=True\n",
    "damask_exe = '' # using default DAMASK_grid solver from PATH\n",
    "\n",
    "# execute the rolling test\n",
    "job.executeRolling(reduction_height,reduction_speed,reduction_outputs,regrid_flag,damask_exe)"
   ]
  },
  {
   "cell_type": "code",
   "execution_count": null,
   "id": "6cef358e-32e1-4c24-beee-0c4004d2f9eb",
   "metadata": {},
   "outputs": [],
   "source": [
    "# show the result\n",
    "job.postProcess() # do the postprocess\n",
    "job.plotStressStrainCurve(-0.005,0.5,0.0,7.5e8) # xmin,xmax, ymin,ymax"
   ]
  },
  {
   "cell_type": "markdown",
   "id": "2f792c62-3ad0-4293-b4d1-112ca29dede2",
   "metadata": {},
   "source": [
    "# Define the 3rd rolling test"
   ]
  },
  {
   "cell_type": "code",
   "execution_count": null,
   "id": "5001ca3b-2fc7-4ddc-a823-652bf212b1db",
   "metadata": {},
   "outputs": [],
   "source": [
    "reduction_height = 0.085\n",
    "reduction_speed = 4.5e-2\n",
    "reduction_outputs = 350\n",
    "regrid_flag=True\n",
    "damask_exe = '' # using default DAMASK_grid solver from PATH\n",
    "\n",
    "# execute the rolling test\n",
    "job.executeRolling(reduction_height,reduction_speed,reduction_outputs,regrid_flag,damask_exe)"
   ]
  },
  {
   "cell_type": "code",
   "execution_count": null,
   "id": "59ed42d6-5f2c-484e-bd49-0b94e6f406ff",
   "metadata": {},
   "outputs": [],
   "source": [
    "# show the result\n",
    "job.postProcess() # do the postprocess\n",
    "job.plotStressStrainCurve(-0.005,0.5,0.0,7.5e8) # xmin,xmax, ymin,ymax"
   ]
  },
  {
   "cell_type": "markdown",
   "id": "603660c9-d89e-4cae-86d5-e726035fabb0",
   "metadata": {},
   "source": [
    "# Define the 4th rolling test"
   ]
  },
  {
   "cell_type": "code",
   "execution_count": null,
   "id": "4552765d-19fc-41c2-9338-b222bfdb8b47",
   "metadata": {},
   "outputs": [],
   "source": [
    "reduction_height = 0.085\n",
    "reduction_speed = 4.5e-2\n",
    "reduction_outputs = 350\n",
    "regrid_flag=True\n",
    "damask_exe = '' # using default DAMASK_grid solver from PATH\n",
    "\n",
    "# execute the rolling test\n",
    "job.executeRolling(reduction_height,reduction_speed,reduction_outputs,regrid_flag,damask_exe)"
   ]
  },
  {
   "cell_type": "code",
   "execution_count": null,
   "id": "f3e7ec0e",
   "metadata": {},
   "outputs": [],
   "source": [
    "# show the result\n",
    "job.postProcess() # do the postprocess\n",
    "job.plotStressStrainCurve(-0.005,0.5,0.0,7.5e8) # xmin,xmax, ymin,ymax"
   ]
  },
  {
   "cell_type": "code",
   "execution_count": null,
   "id": "9abd50df",
   "metadata": {},
   "outputs": [],
   "source": [
    "# List out all the hdf5 results file\n",
    "print(job.ResultsFile)"
   ]
  },
  {
   "cell_type": "code",
   "execution_count": null,
   "id": "6f3affd0-0ab1-4ecd-b636-9f7440b2702e",
   "metadata": {},
   "outputs": [],
   "source": []
  }
 ],
 "metadata": {
  "kernelspec": {
   "display_name": "Python [conda env:base] *",
   "language": "python",
   "name": "conda-base-py"
  },
  "language_info": {
   "codemirror_mode": {
    "name": "ipython",
    "version": 3
   },
   "file_extension": ".py",
   "mimetype": "text/x-python",
   "name": "python",
   "nbconvert_exporter": "python",
   "pygments_lexer": "ipython3",
   "version": "3.10.0"
  }
 },
 "nbformat": 4,
 "nbformat_minor": 5
}
